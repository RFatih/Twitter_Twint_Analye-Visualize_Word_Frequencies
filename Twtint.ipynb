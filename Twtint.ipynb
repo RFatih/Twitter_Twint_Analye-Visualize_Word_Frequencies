{
  "nbformat": 4,
  "nbformat_minor": 0,
  "metadata": {
    "colab": {
      "name": "Twtint.ipynb",
      "provenance": [],
      "collapsed_sections": [],
      "authorship_tag": "ABX9TyNosZinAxMoOgcQKu34smou",
      "include_colab_link": true
    },
    "kernelspec": {
      "name": "python3",
      "display_name": "Python 3"
    },
    "language_info": {
      "name": "python"
    }
  },
  "cells": [
    {
      "cell_type": "markdown",
      "metadata": {
        "id": "view-in-github",
        "colab_type": "text"
      },
      "source": [
        "<a href=\"https://colab.research.google.com/github/RFatih/Twitter_Twint_Analye-Visualize_Word_Frequencies/blob/main/Twtint.ipynb\" target=\"_parent\"><img src=\"https://colab.research.google.com/assets/colab-badge.svg\" alt=\"Open In Colab\"/></a>"
      ]
    },
    {
      "cell_type": "code",
      "metadata": {
        "id": "qN3NQ6Lcb9_r"
      },
      "source": [
        "!git clone https://github.com/twintproject/twint.git"
      ],
      "execution_count": null,
      "outputs": []
    },
    {
      "cell_type": "code",
      "metadata": {
        "id": "EaKV-78zcBGJ"
      },
      "source": [
        "%cd twint/\n",
        "!ls"
      ],
      "execution_count": null,
      "outputs": []
    },
    {
      "cell_type": "code",
      "metadata": {
        "id": "iYv9C5JwcGd6"
      },
      "source": [
        "!pip3 install . -r requirements.txt"
      ],
      "execution_count": null,
      "outputs": []
    },
    {
      "cell_type": "code",
      "metadata": {
        "id": "bQ8KO2g9cJLx"
      },
      "source": [
        "!pip3 install --user --upgrade -e git+https://github.com/twintproject/twint.git@origin/master#egg=twint"
      ],
      "execution_count": null,
      "outputs": []
    },
    {
      "cell_type": "code",
      "metadata": {
        "id": "TYnO6fr1cNs6"
      },
      "source": [
        "import twint\n",
        "import nest_asyncio\n",
        "nest_asyncio.apply()\n",
        "config = twint.Config()\n",
        "config.Username = \"evrimagaci\"\n",
        "config.Limit = 3200\n",
        "#config.Year = \"2021\"\n",
        "config.Store_csv = True\n",
        "config.Output = \"ea2021.csv\"\n",
        "twint.run.Search(config)"
      ],
      "execution_count": null,
      "outputs": []
    },
    {
      "cell_type": "code",
      "metadata": {
        "id": "JFJf9PCUlqaB"
      },
      "source": [
        "%cd /content/twint/\n",
        "import numpy as np\n",
        "import pandas as pd\n",
        "from os import path\n",
        "from PIL import Image\n",
        "from wordcloud import WordCloud, STOPWORDS, ImageColorGenerator\n",
        "\n",
        "import matplotlib.pyplot as plt\n",
        "\n",
        "\n",
        "def transform_format(val):\n",
        "    if val == 0:\n",
        "        return 255\n",
        "    else:\n",
        "        return val\n",
        "\n",
        "\n",
        "df = pd.read_csv(\"/content/twint/ea2020.csv\", error_bad_lines=False)\n",
        "sw =pd.read_csv(\"/content/twint/stopw.csv\", error_bad_lines=False)\n",
        "print(df.head())\n",
        "for col in df.columns:\n",
        "  print(col)\n",
        "df.drop(df.columns.difference(['tweet']), 1, inplace=True)\n",
        "print(df.head())\n",
        "\n",
        "text = \"\"\n",
        "\n",
        "for a in df.tweet:\n",
        "  text+=a\n",
        "#text = text.lower()\n",
        "stopwords = set(STOPWORDS)\n",
        "stopwords.update([\"of\", \"in\",\"the\",\"https\",\"co\",\"bir\",\"bu\",\"da\",\"daha\",\"ve\",\"ile\",\"de\",\"en\",\"var\",\"yok\",\"ne\",\"gibi\",\"mi\",\"ya\"])\n",
        "for data in sw.bir:\n",
        "  stopwords.update([data])\n",
        "\n",
        "print(stopwords)\n",
        "deu_mask = np.array(Image.open(\"/content/twint/deu.png\"))\n",
        "transformed_deu_mask = np.ndarray((deu_mask.shape[0],deu_mask.shape[1]), np.int32)\n",
        "\n",
        "for i in range(len(deu_mask)):\n",
        "    transformed_deu_mask[i] = list(map(transform_format, deu_mask[i]))\n",
        "\n",
        "\n",
        "\n",
        "tuples = [tuple(x) for x in df.values]\n",
        "\n",
        "wordcloud = WordCloud(stopwords=stopwords,mask=transformed_deu_mask, max_words=1000, background_color=\"white\",contour_width=3, contour_color='blue').generate(text)\n",
        "\n",
        "wordcloud.to_file(\"/content/twint/deu_output.png\")\n",
        "\n",
        "plt.imshow(wordcloud, interpolation='bilinear')\n",
        "plt.axis(\"off\")\n",
        "plt.show()\n"
      ],
      "execution_count": null,
      "outputs": []
    },
    {
      "cell_type": "code",
      "metadata": {
        "colab": {
          "base_uri": "https://localhost:8080/"
        },
        "id": "pAZWzlcW2dqn",
        "outputId": "df38bf4e-0844-40ec-c3fb-567b0ccad35c"
      },
      "source": [
        "%cd /content/trstop/dosyalar/\n"
      ],
      "execution_count": null,
      "outputs": [
        {
          "output_type": "stream",
          "text": [
            "/content\n",
            "Cloning into 'trstop'...\n",
            "remote: Enumerating objects: 69, done.\u001b[K\n",
            "remote: Total 69 (delta 0), reused 0 (delta 0), pack-reused 69\u001b[K\n",
            "Unpacking objects: 100% (69/69), done.\n"
          ],
          "name": "stdout"
        }
      ]
    },
    {
      "cell_type": "code",
      "metadata": {
        "colab": {
          "base_uri": "https://localhost:8080/",
          "height": 632
        },
        "id": "p_3Tt0RtppHn",
        "outputId": "835dc989-6393-446c-b955-ec33273ed95a"
      },
      "source": [
        "!git clone https://github.com/amueller/word_cloud.git\n",
        "%cd word_cloud\n",
        "!pip install ."
      ],
      "execution_count": null,
      "outputs": [
        {
          "output_type": "stream",
          "text": [
            "Cloning into 'word_cloud'...\n",
            "remote: Enumerating objects: 6459, done.\u001b[K\n",
            "remote: Counting objects: 100% (18/18), done.\u001b[K\n",
            "remote: Compressing objects: 100% (11/11), done.\u001b[K\n",
            "remote: Total 6459 (delta 8), reused 15 (delta 7), pack-reused 6441\u001b[K\n",
            "Receiving objects: 100% (6459/6459), 116.92 MiB | 25.64 MiB/s, done.\n",
            "Resolving deltas: 100% (3839/3839), done.\n",
            "/content/twint/word_cloud\n",
            "Processing /content/twint/word_cloud\n",
            "\u001b[33m  DEPRECATION: A future pip version will change local packages to be built in-place without first copying to a temporary directory. We recommend you use --use-feature=in-tree-build to test your packages with this new behavior before it becomes the default.\n",
            "   pip 21.3 will remove support for this functionality. You can find discussion regarding this at https://github.com/pypa/pip/issues/7555.\u001b[0m\n",
            "Requirement already satisfied: numpy>=1.6.1 in /usr/local/lib/python3.7/dist-packages (from wordcloud==1.8.1.post3+g0b3b942) (1.19.5)\n",
            "Requirement already satisfied: pillow in /usr/local/lib/python3.7/dist-packages (from wordcloud==1.8.1.post3+g0b3b942) (7.1.2)\n",
            "Requirement already satisfied: matplotlib in /usr/local/lib/python3.7/dist-packages (from wordcloud==1.8.1.post3+g0b3b942) (3.2.2)\n",
            "Requirement already satisfied: cycler>=0.10 in /usr/local/lib/python3.7/dist-packages (from matplotlib->wordcloud==1.8.1.post3+g0b3b942) (0.10.0)\n",
            "Requirement already satisfied: pyparsing!=2.0.4,!=2.1.2,!=2.1.6,>=2.0.1 in /usr/local/lib/python3.7/dist-packages (from matplotlib->wordcloud==1.8.1.post3+g0b3b942) (2.4.7)\n",
            "Requirement already satisfied: kiwisolver>=1.0.1 in /usr/local/lib/python3.7/dist-packages (from matplotlib->wordcloud==1.8.1.post3+g0b3b942) (1.3.1)\n",
            "Requirement already satisfied: python-dateutil>=2.1 in /usr/local/lib/python3.7/dist-packages (from matplotlib->wordcloud==1.8.1.post3+g0b3b942) (2.8.1)\n",
            "Requirement already satisfied: six in /usr/local/lib/python3.7/dist-packages (from cycler>=0.10->matplotlib->wordcloud==1.8.1.post3+g0b3b942) (1.15.0)\n",
            "Building wheels for collected packages: wordcloud\n",
            "  Building wheel for wordcloud (setup.py) ... \u001b[?25l\u001b[?25hdone\n",
            "  Created wheel for wordcloud: filename=wordcloud-1.8.1.post3+g0b3b942-cp37-cp37m-linux_x86_64.whl size=333115 sha256=31b764c76406c57e02d3c796e7a9b976d3c4c9212f6c7608c7a6000def7778f0\n",
            "  Stored in directory: /tmp/pip-ephem-wheel-cache-uhbdyw4r/wheels/16/cb/f8/90474fb2ed099d71a33374b7ad3c19df74b2693211cf36a19d\n",
            "Successfully built wordcloud\n",
            "Installing collected packages: wordcloud\n",
            "  Attempting uninstall: wordcloud\n",
            "    Found existing installation: wordcloud 1.5.0\n",
            "    Uninstalling wordcloud-1.5.0:\n",
            "      Successfully uninstalled wordcloud-1.5.0\n",
            "Successfully installed wordcloud-1.8.1.post3+g0b3b942\n"
          ],
          "name": "stdout"
        },
        {
          "output_type": "display_data",
          "data": {
            "application/vnd.colab-display-data+json": {
              "pip_warning": {
                "packages": [
                  "wordcloud"
                ]
              }
            }
          },
          "metadata": {
            "tags": []
          }
        }
      ]
    },
    {
      "cell_type": "code",
      "metadata": {
        "colab": {
          "base_uri": "https://localhost:8080/"
        },
        "id": "JYmyPGYimCIO",
        "outputId": "db46716e-afc5-493d-d0ee-21315218975a"
      },
      "source": [
        "from google.colab import drive\n",
        "drive.mount('/content/drive')"
      ],
      "execution_count": null,
      "outputs": [
        {
          "output_type": "stream",
          "text": [
            "Mounted at /content/drive\n"
          ],
          "name": "stdout"
        }
      ]
    },
    {
      "cell_type": "code",
      "metadata": {
        "id": "97r7i_asmWiw"
      },
      "source": [
        "%cp /content/drive/MyDrive/stopw.csv /content/twint/"
      ],
      "execution_count": null,
      "outputs": []
    }
  ]
}