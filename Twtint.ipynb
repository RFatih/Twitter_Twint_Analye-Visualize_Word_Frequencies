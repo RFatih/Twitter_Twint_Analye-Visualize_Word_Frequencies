{
  "nbformat": 4,
  "nbformat_minor": 0,
  "metadata": {
    "colab": {
      "name": "Twtint.ipynb",
      "provenance": [],
      "collapsed_sections": [],
      "authorship_tag": "ABX9TyOnycPOwRdOd4UKVj5Opxil",
      "include_colab_link": true
    },
    "kernelspec": {
      "name": "python3",
      "display_name": "Python 3"
    },
    "language_info": {
      "name": "python"
    }
  },
  "cells": [
    {
      "cell_type": "markdown",
      "metadata": {
        "id": "view-in-github",
        "colab_type": "text"
      },
      "source": [
        "<a href=\"https://colab.research.google.com/github/RFatih/Twitter_Twint_Analye-Visualize_Word_Frequencies/blob/main/Twtint.ipynb\" target=\"_parent\"><img src=\"https://colab.research.google.com/assets/colab-badge.svg\" alt=\"Open In Colab\"/></a>"
      ]
    },
    {
      "cell_type": "code",
      "metadata": {
        "id": "qN3NQ6Lcb9_r"
      },
      "source": [
        "!git clone https://github.com/twintproject/twint.git"
      ],
      "execution_count": null,
      "outputs": []
    },
    {
      "cell_type": "code",
      "metadata": {
        "id": "EaKV-78zcBGJ"
      },
      "source": [
        "%cd twint/\n",
        "!ls"
      ],
      "execution_count": null,
      "outputs": []
    },
    {
      "cell_type": "code",
      "metadata": {
        "id": "iYv9C5JwcGd6"
      },
      "source": [
        "!pip3 install . -r requirements.txt"
      ],
      "execution_count": null,
      "outputs": []
    },
    {
      "cell_type": "code",
      "metadata": {
        "id": "bQ8KO2g9cJLx"
      },
      "source": [
        "!pip3 install --user --upgrade -e git+https://github.com/twintproject/twint.git@origin/master#egg=twint"
      ],
      "execution_count": null,
      "outputs": []
    },
    {
      "cell_type": "code",
      "metadata": {
        "colab": {
          "base_uri": "https://localhost:8080/"
        },
        "id": "JYmyPGYimCIO",
        "outputId": "db46716e-afc5-493d-d0ee-21315218975a"
      },
      "source": [
        "from google.colab import drive\n",
        "drive.mount('/content/drive')"
      ],
      "execution_count": null,
      "outputs": [
        {
          "output_type": "stream",
          "text": [
            "Mounted at /content/drive\n"
          ],
          "name": "stdout"
        }
      ]
    },
    {
      "cell_type": "code",
      "metadata": {
        "id": "97r7i_asmWiw"
      },
      "source": [
        "%cp /content/drive/MyDrive/stopw.csv /content/twint/ #use your drive to add this"
      ],
      "execution_count": null,
      "outputs": []
    },
    {
      "cell_type": "code",
      "metadata": {
        "id": "p_3Tt0RtppHn"
      },
      "source": [
        "!git clone https://github.com/amueller/word_cloud.git\n",
        "%cd word_cloud\n",
        "!pip install ."
      ],
      "execution_count": null,
      "outputs": []
    },
    {
      "cell_type": "code",
      "metadata": {
        "id": "TYnO6fr1cNs6"
      },
      "source": [
        "import twint\n",
        "import nest_asyncio\n",
        "nest_asyncio.apply()\n",
        "config = twint.Config()\n",
        "config.Username = \"evrimagaci\"\n",
        "config.Limit = 3200\n",
        "#config.Year = \"2021\"\n",
        "config.Store_csv = True\n",
        "config.Output = \"ea2021.csv\"\n",
        "twint.run.Search(config)"
      ],
      "execution_count": null,
      "outputs": []
    },
    {
      "cell_type": "code",
      "metadata": {
        "id": "JFJf9PCUlqaB"
      },
      "source": [
        "%cd /content/twint/\n",
        "import numpy as np\n",
        "import pandas as pd\n",
        "from os import path\n",
        "from PIL import Image\n",
        "from wordcloud import WordCloud, STOPWORDS, ImageColorGenerator\n",
        "\n",
        "import matplotlib.pyplot as plt\n",
        "\n",
        "\n",
        "def transform_format(val):\n",
        "    if val == 0:\n",
        "        return 255\n",
        "    else:\n",
        "        return val\n",
        "\n",
        "\n",
        "df = pd.read_csv(\"/content/twint/ea2020.csv\", error_bad_lines=False)# enter the csv file name that twint just created\n",
        "sw =pd.read_csv(\"/content/twint/stopw.csv\", error_bad_lines=False)# enter the additional stop words csv. I added the turkish one.\n",
        "print(df.head())\n",
        "for col in df.columns:\n",
        "  print(col)\n",
        "df.drop(df.columns.difference(['tweet']), 1, inplace=True)\n",
        "print(df.head())\n",
        "\n",
        "text = \"\"\n",
        "\n",
        "for a in df.tweet:\n",
        "  text+=a\n",
        "#text = text.lower()\n",
        "stopwords = set(STOPWORDS)\n",
        "stopwords.update([\"of\", \"in\",\"the\",\"https\",\"co\",\"bir\",\"bu\",\"da\",\"daha\",\"ve\",\"ile\",\"de\",\"en\",\"var\",\"yok\",\"ne\",\"gibi\",\"mi\",\"ya\"])\n",
        "for data in sw.bir:\n",
        "  stopwords.update([data])\n",
        "\n",
        "#print(stopwords)\n",
        "deu_mask = np.array(Image.open(\"/content/twint/deu.png\")) # add the mask for showing the words I used the logo of my school\n",
        "transformed_deu_mask = np.ndarray((deu_mask.shape[0],deu_mask.shape[1]), np.int32)\n",
        "\n",
        "for i in range(len(deu_mask)):\n",
        "    transformed_deu_mask[i] = list(map(transform_format, deu_mask[i]))\n",
        "\n",
        "\n",
        "\n",
        "tuples = [tuple(x) for x in df.values]\n",
        "\n",
        "wordcloud = WordCloud(stopwords=stopwords,mask=transformed_deu_mask, max_words=1000, background_color=\"white\",contour_width=3, contour_color='blue').generate(text)\n",
        "\n",
        "wordcloud.to_file(\"/content/twint/deu_output.png\")#save the output\n",
        "\n",
        "plt.imshow(wordcloud, interpolation='bilinear')\n",
        "plt.axis(\"off\")\n",
        "plt.show()\n"
      ],
      "execution_count": null,
      "outputs": []
    },
    {
      "cell_type": "code",
      "metadata": {
        "id": "pAZWzlcW2dqn"
      },
      "source": [
        "%cd /content/trstop/dosyalar/\n"
      ],
      "execution_count": null,
      "outputs": []
    },
    {
      "cell_type": "markdown",
      "metadata": {
        "id": "PcOeQ3RPAzJw"
      },
      "source": [
        ""
      ]
    }
  ]
}